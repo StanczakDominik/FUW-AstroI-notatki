{
 "cells": [
  {
   "cell_type": "code",
   "execution_count": 2,
   "metadata": {},
   "outputs": [],
   "source": [
    "from sympy.abc import *\n",
    "import sympy\n",
    "from sympy import Eq, Function, Symbol\n",
    "sympy.init_printing()\n",
    "\n",
    "Mr = Function('M_r', positive=True)(r)\n",
    "P = Function('P')(r)\n",
    "rho = Function('rho')(r)\n",
    "phi = Function('phi')(r)\n",
    "mH = Symbol('m_H', positive=True)\n",
    "T_avg = Symbol('T_{avg}')\n",
    "rho_C = Symbol('rho_C', positive=True)\n",
    "xi = Function('xi')"
   ]
  },
  {
   "cell_type": "code",
   "execution_count": null,
   "metadata": {},
   "outputs": [],
   "source": [
    "n = 0\n",
    "1 / xi**2 "
   ]
  }
 ],
 "metadata": {
  "kernelspec": {
   "display_name": "Python 3",
   "language": "python",
   "name": "python3"
  },
  "language_info": {
   "codemirror_mode": {
    "name": "ipython",
    "version": 3
   },
   "file_extension": ".py",
   "mimetype": "text/x-python",
   "name": "python",
   "nbconvert_exporter": "python",
   "pygments_lexer": "ipython3",
   "version": "3.7.0"
  }
 },
 "nbformat": 4,
 "nbformat_minor": 2
}
