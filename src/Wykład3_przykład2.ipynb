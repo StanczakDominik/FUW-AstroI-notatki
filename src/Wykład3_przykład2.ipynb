{
 "cells": [
  {
   "cell_type": "markdown",
   "metadata": {},
   "source": [
    "# Wykład 3 - niestabilność dynamiczna kuli gazu"
   ]
  },
  {
   "cell_type": "code",
   "execution_count": 1,
   "metadata": {},
   "outputs": [],
   "source": [
    "from sympy import *\n",
    "init_printing()"
   ]
  },
  {
   "cell_type": "code",
   "execution_count": null,
   "metadata": {},
   "outputs": [],
   "source": [
    " "
   ]
  },
  {
   "cell_type": "code",
   "execution_count": 3,
   "metadata": {},
   "outputs": [
    {
     "data": {
      "image/png": "[encoded data removed]",
      "text/latex": [
       "$${r}' = - f_{r} r + r$$"
      ],
      "text/plain": [
       "r′ = -fᵣ⋅r + r"
      ]
     },
     "execution_count": 3,
     "metadata": {},
     "output_type": "execute_result"
    }
   ],
   "source": [
    "G, M, r0, R = symbols('G M r_0 R', positive=True)\n",
    "t, r, fr, rprime = symbols('t r, f_r rprime')\n",
    "Eq(rprime, r - fr * r)"
   ]
  },
  {
   "cell_type": "markdown",
   "metadata": {},
   "source": [
    "przybliżamy liniowo we względnej amplitudzie ściśnięcia $f_r$:\n",
    "\n",
    "$$ dr' = (1-f_r) dr $$"
   ]
  },
  {
   "cell_type": "markdown",
   "metadata": {},
   "source": [
    "Ze zmiany gęstości:\n",
    "\n",
    "$$ \\rho\\prime = \\frac{1}{4 \\pi r\\prime ^2 } \\frac{dM_r}{dr\\prime} $$"
   ]
  },
  {
   "cell_type": "code",
   "execution_count": 4,
   "metadata": {},
   "outputs": [
    {
     "data": {
      "image/png": "[encoded data removed]",
      "text/latex": [
       "$${\\rho}' = \\rho \\left(3 f_{r} + 1\\right)$$"
      ],
      "text/plain": [
       "ρ′ = ρ⋅(3⋅fᵣ + 1)"
      ]
     },
     "execution_count": 4,
     "metadata": {},
     "output_type": "execute_result"
    }
   ],
   "source": [
    "rhoprime, Pprime, rho, P = symbols(r'rhoprime Pprime rho P')\n",
    "# ze zmiany gęstości \n",
    "Eq(rhoprime, rho*(1+3*fr))"
   ]
  },
  {
   "cell_type": "markdown",
   "metadata": {},
   "source": [
    "Przybliżamy wszystko jako adiabatyczne (warstwy gazu nie przybliżają ciepła z otoczeniem - dobre przybliżenie zwłaszcza głębiej "
   ]
  },
  {
   "cell_type": "markdown",
   "metadata": {},
   "source": [
    "Warunek na przywrócenie równowagi: ciśnienie gazu większe niż ciśnienie warstw zewnętrznych, żeby mogło się odpowiednio \"rozepchać\". Innymi słowy **warunek stabilności dynamicznej** w *liniowej analizie*\n",
    "\n",
    "$$\\gamma > \\frac{4}{3}$$\n",
    "\n",
    "Warunek na kolaps: odwrotnie. "
   ]
  },
  {
   "cell_type": "markdown",
   "metadata": {},
   "source": [
    "W warstwach częściowej jonizacji ten czynnik jest mniejszy i one przez to kolapsują!\n",
    "\n",
    "Poprawki relatywistyczne dają nieco mniejszą gammę graniczną."
   ]
  }
 ],
 "metadata": {
  "kernelspec": {
   "display_name": "Python 3",
   "language": "python",
   "name": "python3"
  },
  "language_info": {
   "codemirror_mode": {
    "name": "ipython",
    "version": 3
   },
   "file_extension": ".py",
   "mimetype": "text/x-python",
   "name": "python",
   "nbconvert_exporter": "python",
   "pygments_lexer": "ipython3",
   "version": "3.7.0"
  }
 },
 "nbformat": 4,
 "nbformat_minor": 2
}
