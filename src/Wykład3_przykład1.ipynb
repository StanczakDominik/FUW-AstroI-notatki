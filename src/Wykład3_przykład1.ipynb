{
 "cells": [
  {
   "cell_type": "markdown",
   "metadata": {},
   "source": [
    "# Wykład 3"
   ]
  },
  {
   "cell_type": "code",
   "execution_count": 1,
   "metadata": {},
   "outputs": [],
   "source": [
    "from sympy import *\n",
    "init_printing()"
   ]
  },
  {
   "cell_type": "code",
   "execution_count": 10,
   "metadata": {},
   "outputs": [],
   "source": [
    "G, M, r0, R = symbols('G M r_0 R', positive=True)\n",
    "t = symbols('t')\n",
    "r = Function('r')(t)"
   ]
  },
  {
   "cell_type": "code",
   "execution_count": 6,
   "metadata": {},
   "outputs": [
    {
     "data": {
      "image/png": "[encoded data removed]",
      "text/latex": [
       "$$\\frac{d^{2}}{d t^{2}} r{\\left (t \\right )} = - \\frac{G M}{r^{2}{\\left (t \\right )}}$$"
      ],
      "text/plain": [
       "  2              \n",
       " d          -G⋅M \n",
       "───(r(t)) = ─────\n",
       "  2          2   \n",
       "dt          r (t)"
      ]
     },
     "execution_count": 6,
     "metadata": {},
     "output_type": "execute_result"
    }
   ],
   "source": [
    "Eq(Derivative(r, t, 2), - G*M/r**2)"
   ]
  },
  {
   "cell_type": "code",
   "execution_count": 9,
   "metadata": {},
   "outputs": [
    {
     "data": {
      "image/png": "[encoded data removed]",
      "text/latex": [
       "$$\\frac{\\sqrt{2} \\frac{d}{d t} r{\\left (t \\right )}}{2} = \\frac{\\sqrt{G} \\sqrt{M} \\sqrt{\\frac{r_{0}}{r{\\left (t \\right )}} - 1}}{\\sqrt{r_{0}}}$$"
      ],
      "text/plain": [
       "                        __________\n",
       "   d                   ╱  r₀      \n",
       "√2⋅──(r(t))   √G⋅√M⋅  ╱  ──── - 1 \n",
       "   dt               ╲╱   r(t)     \n",
       "─────────── = ────────────────────\n",
       "     2                 ____       \n",
       "                     ╲╱ r₀        "
      ]
     },
     "execution_count": 9,
     "metadata": {},
     "output_type": "execute_result"
    }
   ],
   "source": [
    "h = sqrt(r0/r -1)\n",
    "Eq(r.diff(t) / sqrt(2), sqrt(G*M/r0) * h)"
   ]
  },
  {
   "cell_type": "code",
   "execution_count": 20,
   "metadata": {},
   "outputs": [
    {
     "data": {
      "image/png": "[encoded data removed]",
      "text/latex": [
       "$$\\frac{\\sqrt{2} r_{0}^{\\frac{3}{2}} \\left(\\operatorname{atan}{\\left (\\sqrt{\\frac{r_{0}}{r{\\left (t \\right )}} - 1} \\right )} + \\frac{\\sqrt{\\frac{r_{0}}{r{\\left (t \\right )}} - 1} r{\\left (t \\right )}}{r_{0}}\\right)}{2 \\sqrt{G} \\sqrt{M}}$$"
      ],
      "text/plain": [
       "         ⎛                           __________     ⎞\n",
       "         ⎜                          ╱  r₀           ⎟\n",
       "         ⎜    ⎛    __________⎞     ╱  ──── - 1 ⋅r(t)⎟\n",
       "     3/2 ⎜    ⎜   ╱  r₀      ⎟   ╲╱   r(t)          ⎟\n",
       "√2⋅r₀   ⋅⎜atan⎜  ╱  ──── - 1 ⎟ + ───────────────────⎟\n",
       "         ⎝    ⎝╲╱   r(t)     ⎠            r₀        ⎠\n",
       "─────────────────────────────────────────────────────\n",
       "                       2⋅√G⋅√M                       "
      ]
     },
     "execution_count": 20,
     "metadata": {},
     "output_type": "execute_result"
    }
   ],
   "source": [
    "t_r = sqrt(r0**3 / (2 * G * M)) * (h / (1 + h**2) + atan(h))\n",
    "t_r"
   ]
  },
  {
   "cell_type": "code",
   "execution_count": 28,
   "metadata": {},
   "outputs": [
    {
     "data": {
      "image/png": "[encoded data removed]",
      "text/latex": [
       "$$\\frac{\\sqrt{3} R^{\\frac{3}{2}}}{3 \\sqrt{G} \\sqrt{M}} = \\frac{0.5}{\\pi^{0.5} <\\rho>^{0.5} G^{0.5}}$$"
      ],
      "text/plain": [
       "    3/2                             \n",
       "√3⋅R           -0.5       -0.5  -0.5\n",
       "─────── = 0.5⋅π    ⋅<\\rho>    ⋅G    \n",
       "3⋅√G⋅√M                             "
      ]
     },
     "execution_count": 28,
     "metadata": {},
     "output_type": "execute_result"
    }
   ],
   "source": [
    "# wprowadzamy skalę dynamiczną\n",
    "rho_avg = symbols(r'<\\rho>')\n",
    "t_d = sqrt(R**3 / 3 / G / M)\n",
    "Eq(t_d, (4 * pi * G * rho_avg)**(-0.5))"
   ]
  },
  {
   "cell_type": "code",
   "execution_count": 22,
   "metadata": {},
   "outputs": [
    {
     "data": {
      "image/png": "[encoded data removed]",
      "text/latex": [
       "$$\\frac{\\sqrt{2} R^{\\frac{3}{2}} \\left(\\operatorname{atan}{\\left (\\sqrt{\\frac{r_{0}}{r{\\left (t \\right )}} - 1} \\right )} + \\frac{\\sqrt{\\frac{r_{0}}{r{\\left (t \\right )}} - 1} r{\\left (t \\right )}}{r_{0}}\\right)}{2 \\sqrt{G} \\sqrt{M}}$$"
      ],
      "text/plain": [
       "        ⎛                           __________     ⎞\n",
       "        ⎜                          ╱  r₀           ⎟\n",
       "        ⎜    ⎛    __________⎞     ╱  ──── - 1 ⋅r(t)⎟\n",
       "    3/2 ⎜    ⎜   ╱  r₀      ⎟   ╲╱   r(t)          ⎟\n",
       "√2⋅R   ⋅⎜atan⎜  ╱  ──── - 1 ⎟ + ───────────────────⎟\n",
       "        ⎝    ⎝╲╱   r(t)     ⎠            r₀        ⎠\n",
       "────────────────────────────────────────────────────\n",
       "                      2⋅√G⋅√M                       "
      ]
     },
     "execution_count": 22,
     "metadata": {},
     "output_type": "execute_result"
    }
   ],
   "source": [
    "t_r = sqrt(Rational(3, 2)) * td * (h / (1 + h**2) + atan(h))\n",
    "t_r"
   ]
  },
  {
   "cell_type": "code",
   "execution_count": 23,
   "metadata": {},
   "outputs": [
    {
     "data": {
      "image/png": "[encoded data removed]",
      "text/latex": [
       "$$t = \\frac{\\sqrt{2} R^{\\frac{3}{2}} \\left(\\operatorname{atan}{\\left (\\sqrt{\\frac{r_{0}}{r{\\left (t \\right )}} - 1} \\right )} + \\frac{\\sqrt{\\frac{r_{0}}{r{\\left (t \\right )}} - 1} r{\\left (t \\right )}}{r_{0}}\\right)}{2 \\sqrt{G} \\sqrt{M}}$$"
      ],
      "text/plain": [
       "            ⎛                           __________     ⎞\n",
       "            ⎜                          ╱  r₀           ⎟\n",
       "            ⎜    ⎛    __________⎞     ╱  ──── - 1 ⋅r(t)⎟\n",
       "        3/2 ⎜    ⎜   ╱  r₀      ⎟   ╲╱   r(t)          ⎟\n",
       "    √2⋅R   ⋅⎜atan⎜  ╱  ──── - 1 ⎟ + ───────────────────⎟\n",
       "            ⎝    ⎝╲╱   r(t)     ⎠            r₀        ⎠\n",
       "t = ────────────────────────────────────────────────────\n",
       "                          2⋅√G⋅√M                       "
      ]
     },
     "execution_count": 23,
     "metadata": {},
     "output_type": "execute_result"
    }
   ],
   "source": [
    "Eq(t, t_r)"
   ]
  },
  {
   "cell_type": "code",
   "execution_count": 33,
   "metadata": {},
   "outputs": [
    {
     "data": {
      "image/png": "[encoded data removed]",
      "text/latex": [
       "$$\\left [ \\right ]$$"
      ],
      "text/plain": [
       "[]"
      ]
     },
     "execution_count": 33,
     "metadata": {},
     "output_type": "execute_result"
    }
   ],
   "source": [
    "solve(Eq(t, t_r), r) # wtf?"
   ]
  }
 ],
 "metadata": {
  "kernelspec": {
   "display_name": "Python 3",
   "language": "python",
   "name": "python3"
  },
  "language_info": {
   "codemirror_mode": {
    "name": "ipython",
    "version": 3
   },
   "file_extension": ".py",
   "mimetype": "text/x-python",
   "name": "python",
   "nbconvert_exporter": "python",
   "pygments_lexer": "ipython3",
   "version": "3.7.0"
  }
 },
 "nbformat": 4,
 "nbformat_minor": 2
}
