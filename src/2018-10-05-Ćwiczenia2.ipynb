{
 "cells": [
  {
   "cell_type": "markdown",
   "metadata": {},
   "source": [
    "# Ćwiczenia 05.10.2018\n",
    "\n",
    "Bierzemy początkową funkcję masy gwiazd -> oceniamy liczbę białych karłów i innych masywnych rzeczy w Galaktyce"
   ]
  },
  {
   "cell_type": "code",
   "execution_count": 81,
   "metadata": {},
   "outputs": [],
   "source": [
    "# Założenie\n",
    "N_gwiazd = 200e9 # w naszej galaktyce"
   ]
  },
  {
   "cell_type": "markdown",
   "metadata": {},
   "source": [
    "$$ f(M) = dN/dM = A_1 M^{-1.3} $$\n",
    "\n",
    "od 0.08 do 0.5 mas słońca\n",
    "\n",
    "$$ f(M) = dN/dM = A_2 M^{-2.2} $$\n",
    "\n",
    "od 0.5 do 1 mas słońca\n",
    "\n",
    "$$ f(M) = dN/dM = A_3 M^{-2.5} $$\n",
    "\n",
    "od 1 do 150 mas słońca\n",
    "\n",
    "Ile spodziewamy się gwiazd neutronowych (powstają z gwiazd o masie początkowej 8-20 mas słońca) i czarnych dziur (20 mas słońca)?\n",
    "\n",
    "*przyjmuję masę Słońca równą 1.*"
   ]
  },
  {
   "cell_type": "code",
   "execution_count": 82,
   "metadata": {},
   "outputs": [],
   "source": [
    "%matplotlib inline\n",
    "from sympy.abc import *\n",
    "import sympy\n",
    "sympy.init_printing()"
   ]
  },
  {
   "cell_type": "code",
   "execution_count": 83,
   "metadata": {},
   "outputs": [],
   "source": [
    "A1, A2, A3, M = sympy.symbols('A_1, A_2, A_3, M', positive=True)\n",
    "f1 = A1 * M**-1.3\n",
    "f2 = A2 * M**-2.2\n",
    "f3 = A3 * M**-2.5"
   ]
  },
  {
   "cell_type": "code",
   "execution_count": 84,
   "metadata": {},
   "outputs": [
    {
     "data": {
      "image/png": "[encoded data removed]",
      "text/latex": [
       "$$\\left [ 2.46228882668983 A_{1} = 4.59479341998814 A_{2}, \\quad A_{2} = A_{3}\\right ]$$"
      ],
      "text/plain": [
       "[2.46228882668983⋅A₁ = 4.59479341998814⋅A₂, A₂ = A₃]"
      ]
     },
     "execution_count": 84,
     "metadata": {},
     "output_type": "execute_result"
    }
   ],
   "source": [
    "ciągłość = [sympy.Eq(f1, f2).subs({M:0.5}),\n",
    "            sympy.Eq(f2, f3).subs({M:1})\n",
    "           ]\n",
    "ciągłość"
   ]
  },
  {
   "cell_type": "code",
   "execution_count": 67,
   "metadata": {},
   "outputs": [
    {
     "data": {
      "image/png": "[encoded data removed]",
      "text/latex": [
       "$$\\int_{1}^{150} \\frac{A_{3}}{M^{2.5}}\\, dM$$"
      ],
      "text/plain": [
       "150            \n",
       " ⌠             \n",
       " ⎮      -2.5   \n",
       " ⎮  A₃⋅M     dM\n",
       " ⌡             \n",
       " 1             "
      ]
     },
     "execution_count": 67,
     "metadata": {},
     "output_type": "execute_result"
    }
   ],
   "source": [
    "sympy.Integral(f3, (M, 1, 150))"
   ]
  },
  {
   "cell_type": "code",
   "execution_count": 68,
   "metadata": {},
   "outputs": [
    {
     "data": {
      "image/png": "[encoded data removed]",
      "text/latex": [
       "$$\\int_{0.08}^{0.5} \\frac{A_{1}}{M^{1.3}}\\, dM + \\int_{0.5}^{1} \\frac{A_{2}}{M^{2.2}}\\, dM + \\int_{1}^{150} \\frac{A_{3}}{M^{2.5}}\\, dM = 200000000000.0$$"
      ],
      "text/plain": [
       "0.5                 1                150                             \n",
       " ⌠                  ⌠                 ⌠                              \n",
       " ⎮       -1.3       ⎮      -2.2       ⎮      -2.5                    \n",
       " ⎮   A₁⋅M     dM +  ⎮  A₂⋅M     dM +  ⎮  A₃⋅M     dM = 200000000000.0\n",
       " ⌡                  ⌡                 ⌡                              \n",
       "0.08               0.5                1                              "
      ]
     },
     "execution_count": 68,
     "metadata": {},
     "output_type": "execute_result"
    }
   ],
   "source": [
    "normalizacja = sympy.Integral(f1, (M, 0.08, 0.5)) +\\\n",
    "            sympy.Integral(f2, (M, 0.5, 1)) +\\\n",
    "            sympy.Integral(f3, (M, 1, 150))\n",
    "warunek_normalizacji = sympy.Eq(normalizacja, N_gwiazd)\n",
    "warunek_normalizacji"
   ]
  },
  {
   "cell_type": "code",
   "execution_count": 69,
   "metadata": {},
   "outputs": [
    {
     "data": {
      "image/png": "[encoded data removed]",
      "text/latex": [
       "$$\\left \\{ A_{1} : 50710259871.896, \\quad A_{2} : 27174955404.5086, \\quad A_{3} : 27174955404.5086\\right \\}$$"
      ],
      "text/plain": [
       "{A₁: 50710259871.896, A₂: 27174955404.5086, A₃: 27174955404.5086}"
      ]
     },
     "execution_count": 69,
     "metadata": {},
     "output_type": "execute_result"
    }
   ],
   "source": [
    "wartości = sympy.solve(ciągłość + [warunek_normalizacji.doit()], (A1, A2, A3))\n",
    "wartości"
   ]
  },
  {
   "cell_type": "code",
   "execution_count": 70,
   "metadata": {},
   "outputs": [
    {
     "name": "stdout",
     "output_type": "stream",
     "text": [
      "5.981e+8\n"
     ]
    }
   ],
   "source": [
    "gwiazdy_neutronowe = sympy.Integral(f3, (M, 8, 20)).subs(wartości).doit()\n",
    "print(f\"{gwiazdy_neutronowe:.3e}\")"
   ]
  },
  {
   "cell_type": "code",
   "execution_count": 71,
   "metadata": {},
   "outputs": [
    {
     "name": "stdout",
     "output_type": "stream",
     "text": [
      "1.927e+8\n"
     ]
    }
   ],
   "source": [
    "czarne_dziury = sympy.Integral(f3, (M, 20, 150)).subs(wartości).doit()\n",
    "print(f\"{czarne_dziury:.3e}\")"
   ]
  },
  {
   "cell_type": "code",
   "execution_count": 96,
   "metadata": {},
   "outputs": [
    {
     "name": "stdout",
     "output_type": "stream",
     "text": [
      "{A_1: 0.253551299359480, A_2: 0.135874777022543, A_3: 0.135874777022543}\n",
      "Gwiazd neutronowych: 2.990e-3\n",
      "Czarnych dziur: 9.634e-4\n"
     ]
    }
   ],
   "source": [
    "def customowa_normalizacja(x):\n",
    "    normalizacja = sympy.Integral(f1, (M, 0.08, 0.5)) +\\\n",
    "                sympy.Integral(f2, (M, 0.5, 1)) +\\\n",
    "                sympy.Integral(f3, (M, 1, 150))\n",
    "    warunek_normalizacji = sympy.Eq(normalizacja, x)  # tu jest jedyna zmiana\n",
    "    wartości = sympy.solve(ciągłość + [warunek_normalizacji.doit()], (A1, A2, A3))\n",
    "    print(wartości)\n",
    "    gwiazdy_neutronowe = sympy.Integral(f3, (M, 8, 20)).subs(wartości).doit()\n",
    "    print(f\"Gwiazd neutronowych: {gwiazdy_neutronowe:.3e}\")\n",
    "    czarne_dziury = sympy.Integral(f3, (M, 20, 150)).subs(wartości).doit()\n",
    "    print(f\"Czarnych dziur: {czarne_dziury:.3e}\")\n",
    "customowa_normalizacja(1) # (jako prawdopodobieństwa)"
   ]
  },
  {
   "cell_type": "markdown",
   "metadata": {},
   "source": [
    "Ile gwiazd o masie większej niż 20 mas słońca (tych, z których powstają `czarne_dziury`) spodziewamy się znaleźć w naszej Galaktyce, jeżeli tempo powstawania giazd wynosi 1 masa Słońca / rok, a czas życia takich gwiazd wynosi $10^7$ lat?"
   ]
  },
  {
   "cell_type": "markdown",
   "metadata": {},
   "source": [
    "Bierzemy tylko gwiazdy powstałe w ciągu ostatnich $10^7$ lat, więc mamy całkowitą masę $10^7$"
   ]
  },
  {
   "cell_type": "code",
   "execution_count": 97,
   "metadata": {},
   "outputs": [
    {
     "name": "stdout",
     "output_type": "stream",
     "text": [
      "{A_1: 2535512.99359480, A_2: 1358747.77022543, A_3: 1358747.77022543}\n",
      "Gwiazd neutronowych: 2.990e+4\n",
      "Czarnych dziur: 9.634e+3\n"
     ]
    }
   ],
   "source": [
    "customowa_normalizacja(1e7)"
   ]
  },
  {
   "cell_type": "markdown",
   "metadata": {},
   "source": [
    "# Wracając do wykładu, poprawka slajdu ~32\n",
    "\n",
    "$$ \\bar{\\rho} = 3 M / (4 \\pi R^3)$$\n",
    "$$ \\bar{\\rho}_r = 3 M_r / (4 \\pi r^3) $$\n",
    "$$ r \\leq R (M_r / M)^{1/3} $$\n",
    "$$ - W = \\int_0^M G M_r dM_r / r$$\n",
    "$$ -W \\geq \\int_0^M G M^{1/3} M_r^{2/3} dM_r / R = \\frac{3}{5} \\frac{GM^2}{R} $$"
   ]
  },
  {
   "cell_type": "markdown",
   "metadata": {},
   "source": [
    "# Legendarna funkcja F\n",
    "\n",
    "$$ dP/dMr = -GM_r/(4 \\pi r^4) \\to dP = - GM_r/(4\\pi r^4) dM_r $$\n",
    "\n",
    "$$ f(r) = P + \\frac{G M_r^2}{8\\pi r^4} $$\n"
   ]
  },
  {
   "cell_type": "code",
   "execution_count": 115,
   "metadata": {},
   "outputs": [],
   "source": [
    "P = sympy.Function(\"P\")(r)\n",
    "P_c = sympy.Symbol(\"P_c\", positive=True)\n",
    "M_r = sympy.Function(\"M_r\")(r)"
   ]
  },
  {
   "cell_type": "code",
   "execution_count": 108,
   "metadata": {},
   "outputs": [
    {
     "data": {
      "image/png": "[encoded data removed]",
      "text/latex": [
       "$$\\frac{G \\operatorname{M_{r}}^{2}{\\left (r \\right )}}{8 \\pi r^{4}} + P{\\left (r \\right )}$$"
      ],
      "text/plain": [
       "    2          \n",
       "G⋅Mᵣ (r)       \n",
       "──────── + P(r)\n",
       "      4        \n",
       " 8⋅π⋅r         "
      ]
     },
     "execution_count": 108,
     "metadata": {},
     "output_type": "execute_result"
    }
   ],
   "source": [
    "f = P + G * M_r**2 / (8 * pi * r**4)\n",
    "f"
   ]
  },
  {
   "cell_type": "code",
   "execution_count": 109,
   "metadata": {},
   "outputs": [
    {
     "data": {
      "image/png": "[encoded data removed]",
      "text/latex": [
       "$$\\frac{G \\operatorname{M_{r}}{\\left (r \\right )} \\frac{d}{d r} \\operatorname{M_{r}}{\\left (r \\right )}}{4 \\pi r^{4}} - \\frac{G \\operatorname{M_{r}}^{2}{\\left (r \\right )}}{2 \\pi r^{5}} + \\frac{d}{d r} P{\\left (r \\right )}$$"
      ],
      "text/plain": [
       "        d                              \n",
       "G⋅Mᵣ(r)⋅──(Mᵣ(r))       2              \n",
       "        dr          G⋅Mᵣ (r)   d       \n",
       "───────────────── - ──────── + ──(P(r))\n",
       "           4              5    dr      \n",
       "      4⋅π⋅r          2⋅π⋅r             "
      ]
     },
     "execution_count": 109,
     "metadata": {},
     "output_type": "execute_result"
    }
   ],
   "source": [
    "f.diff(r)"
   ]
  },
  {
   "cell_type": "code",
   "execution_count": 113,
   "metadata": {},
   "outputs": [
    {
     "data": {
      "image/png": "[encoded data removed]",
      "text/latex": [
       "$$\\left [ \\frac{G \\operatorname{M_{r}}{\\left (r \\right )} \\frac{d}{d r} \\operatorname{M_{r}}{\\left (r \\right )}}{4 \\pi r^{4}} - \\frac{G \\operatorname{M_{r}}^{2}{\\left (r \\right )}}{2 \\pi r^{5}} + \\frac{d}{d r} P{\\left (r \\right )} < 0, \\quad r > 0\\right ]$$"
      ],
      "text/plain": [
       "⎡        d                                         ⎤\n",
       "⎢G⋅Mᵣ(r)⋅──(Mᵣ(r))       2                         ⎥\n",
       "⎢        dr          G⋅Mᵣ (r)   d                  ⎥\n",
       "⎢───────────────── - ──────── + ──(P(r)) < 0, r > 0⎥\n",
       "⎢           4              5    dr                 ⎥\n",
       "⎣      4⋅π⋅r          2⋅π⋅r                        ⎦"
      ]
     },
     "execution_count": 113,
     "metadata": {},
     "output_type": "execute_result"
    }
   ],
   "source": [
    "[f.diff(r) < 0, r > 0]"
   ]
  },
  {
   "cell_type": "markdown",
   "metadata": {},
   "source": [
    "# Średnia temperatura"
   ]
  },
  {
   "cell_type": "code",
   "execution_count": 121,
   "metadata": {},
   "outputs": [
    {
     "data": {
      "image/png": "[encoded data removed]",
      "text/latex": [
       "$$\\frac{T k \\rho}{mH \\mu}$$"
      ],
      "text/plain": [
       "T⋅k⋅ρ\n",
       "─────\n",
       " mH⋅μ"
      ]
     },
     "execution_count": 121,
     "metadata": {},
     "output_type": "execute_result"
    }
   ],
   "source": [
    "mH = sympy.Symbol('mH', positive=True)\n",
    "P = k * rho * T / (mu * mH)\n",
    "P"
   ]
  },
  {
   "cell_type": "markdown",
   "metadata": {},
   "source": [
    "Te osoby które chcą i potrafią by zrobiły taką symulację Monte Carlo powstawania miliona gwiazd o podanej na początku funkcji masy. Wylosować milion gwiazd, ile ponad 8 mas, ile ponad 20 mas, średnia masa.\n",
    "\n",
    "Pozostałe osoby liczy dla rozkładu $\\rho = \\rho_c (1 - r/R)$ rozkład ciśnienia i energii potencjału grawitacyjnego."
   ]
  }
 ],
 "metadata": {
  "kernelspec": {
   "display_name": "Python 3",
   "language": "python",
   "name": "python3"
  },
  "language_info": {
   "codemirror_mode": {
    "name": "ipython",
    "version": 3
   },
   "file_extension": ".py",
   "mimetype": "text/x-python",
   "name": "python",
   "nbconvert_exporter": "python",
   "pygments_lexer": "ipython3",
   "version": "3.7.0"
  }
 },
 "nbformat": 4,
 "nbformat_minor": 2
}
