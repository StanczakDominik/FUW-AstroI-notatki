{
 "cells": [
  {
   "cell_type": "code",
   "execution_count": 13,
   "metadata": {},
   "outputs": [],
   "source": [
    "import sympy\n",
    "sympy.init_printing()\n",
    "from sympy import pi"
   ]
  },
  {
   "cell_type": "code",
   "execution_count": 24,
   "metadata": {},
   "outputs": [],
   "source": [
    "n, G, K, xi1, rho_c, xi, R, M  = sympy.symbols('n G K xi_1 rho_c xi R M', positive=True)\n",
    "theta = sympy.symbols('theta R M', cls=sympy.Function)"
   ]
  },
  {
   "cell_type": "code",
   "execution_count": 27,
   "metadata": {},
   "outputs": [],
   "source": [
    "eq1 = sympy.Eq(R, ((n + 1)/(4*pi*G))**0.5 * K **0.5 * rho_c**((1-n)/(n*2)) * xi1)\n",
    "# M = - 4 * pi * ((n+1)/(4*pi*G))**1.5 * K**1.5 * rho_c ** ((3-n)/(2*n)) * xi ** 2 * theta(xi).diff(xi).subs(xi, xi1)"
   ]
  },
  {
   "cell_type": "code",
   "execution_count": 28,
   "metadata": {},
   "outputs": [
    {
     "data": {
      "image/png": "[encoded data removed]",
      "text/latex": [
       "$$\\left [ \\left \\{ R : \\frac{0.282094791773878 \\sqrt{K} \\rho_{c}^{\\frac{- n + 1}{2 n}} \\xi_{1} \\sqrt{n + 1.0}}{\\sqrt{G}}\\right \\}\\right ]$$"
      ],
      "text/plain": [
       "⎡⎧                           -n + 1               ⎫⎤\n",
       "⎢⎪                           ──────               ⎪⎥\n",
       "⎢⎪                            2⋅n        _________⎪⎥\n",
       "⎢⎨   0.282094791773878⋅√K⋅ρ_c      ⋅ξ₁⋅╲╱ n + 1.0 ⎬⎥\n",
       "⎢⎪R: ─────────────────────────────────────────────⎪⎥\n",
       "⎢⎪                         √G                     ⎪⎥\n",
       "⎣⎩                                                ⎭⎦"
      ]
     },
     "execution_count": 28,
     "metadata": {},
     "output_type": "execute_result"
    }
   ],
   "source": [
    "sympy.solve(eq1)"
   ]
  }
 ],
 "metadata": {
  "kernelspec": {
   "display_name": "Python 3",
   "language": "python",
   "name": "python3"
  },
  "language_info": {
   "codemirror_mode": {
    "name": "ipython",
    "version": 3
   },
   "file_extension": ".py",
   "mimetype": "text/x-python",
   "name": "python",
   "nbconvert_exporter": "python",
   "pygments_lexer": "ipython3",
   "version": "3.7.0"
  }
 },
 "nbformat": 4,
 "nbformat_minor": 2
}
