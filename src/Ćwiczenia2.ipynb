{
 "cells": [
  {
   "cell_type": "code",
   "execution_count": 21,
   "metadata": {},
   "outputs": [],
   "source": [
    "from sympy.abc import *\n",
    "import sympy\n",
    "from sympy import Eq, Function, Symbol\n",
    "sympy.init_printing()\n",
    "\n",
    "Mr = Function('M_r', positive=True)(r)\n",
    "P = Function('P')(r)\n",
    "rho = Function('rho')(r)\n",
    "phi = Function('phi')(r)\n",
    "mH = Symbol('m_H', positive=True)\n",
    "T_avg = Symbol('T_{avg}')\n",
    "rho_C = Symbol('rho_C', positive=True)\n",
    "xi = Function('xi')()"
   ]
  },
  {
   "cell_type": "code",
   "execution_count": 50,
   "metadata": {},
   "outputs": [
    {
     "data": {
      "image/png": "[encoded data removed]",
      "text/latex": [
       "$$\\phi{\\left (3 \\right )}$$"
      ],
      "text/plain": [
       "φ(3)"
      ]
     },
     "execution_count": 50,
     "metadata": {},
     "output_type": "execute_result"
    }
   ],
   "source": []
  },
  {
   "cell_type": "code",
   "execution_count": 25,
   "metadata": {},
   "outputs": [
    {
     "data": {
      "image/png": "[encoded data removed]",
      "text/latex": [
       "$$\\frac{d}{d r} P{\\left (r \\right )} = - \\frac{G \\operatorname{M_{r}}{\\left (r \\right )} \\rho{\\left (r \\right )}}{r^{2}}$$"
      ],
      "text/plain": [
       "d          -G⋅Mᵣ(r)⋅ρ(r) \n",
       "──(P(r)) = ──────────────\n",
       "dr                2      \n",
       "                 r       "
      ]
     },
     "execution_count": 25,
     "metadata": {},
     "output_type": "execute_result"
    }
   ],
   "source": [
    "warunek_równowagi = Eq(P.diff(r), - G * Mr * rho / r**2)\n",
    "warunek_równowagi"
   ]
  },
  {
   "cell_type": "code",
   "execution_count": 24,
   "metadata": {},
   "outputs": [
    {
     "data": {
      "image/png": "[encoded data removed]",
      "text/latex": [
       "$$P{\\left (r \\right )} = K \\rho^{1 + \\frac{1}{n}}{\\left (r \\right )}$$"
      ],
      "text/plain": [
       "                   1\n",
       "               1 + ─\n",
       "                   n\n",
       "P(r) = K⋅(ρ(r))     "
      ]
     },
     "execution_count": 24,
     "metadata": {},
     "output_type": "execute_result"
    }
   ],
   "source": [
    "politropa = Eq(P, K*rho**(1+1/n))\n",
    "politropa"
   ]
  },
  {
   "cell_type": "code",
   "execution_count": 26,
   "metadata": {},
   "outputs": [
    {
     "data": {
      "image/png": "[encoded data removed]",
      "text/latex": [
       "$$\\frac{d}{d r} \\operatorname{M_{r}}{\\left (r \\right )} = 4 \\pi r^{2} \\rho{\\left (r \\right )}$$"
      ],
      "text/plain": [
       "d                2     \n",
       "──(Mᵣ(r)) = 4⋅π⋅r ⋅ρ(r)\n",
       "dr                     "
      ]
     },
     "execution_count": 26,
     "metadata": {},
     "output_type": "execute_result"
    }
   ],
   "source": [
    "ciągłość = Eq(Mr.diff(r), 4*sympy.pi*r**2*rho)\n",
    "ciągłość"
   ]
  },
  {
   "cell_type": "code",
   "execution_count": 37,
   "metadata": {},
   "outputs": [
    {
     "data": {
      "image/png": "[encoded data removed]",
      "text/latex": [
       "$$\\left [ \\rho{\\left (r \\right )} = \\rho_{C} \\theta^{n}, \\quad r = \\frac{k \\rho_{C}^{-1 + \\frac{1}{n}} \\xi \\left(n + 1\\right)}{8 G \\pi}\\right ]$$"
      ],
      "text/plain": [
       "⎡                             1          ⎤\n",
       "⎢                        -1 + ─          ⎥\n",
       "⎢                             n          ⎥\n",
       "⎢            n      k⋅ρ_C      ⋅ξ⋅(n + 1)⎥\n",
       "⎢ρ(r) = ρ_C⋅θ , r = ─────────────────────⎥\n",
       "⎣                           8⋅G⋅π        ⎦"
      ]
     },
     "execution_count": 37,
     "metadata": {},
     "output_type": "execute_result"
    }
   ],
   "source": [
    "podstawienia = [\n",
    "    Eq(rho, rho_C * theta ** n),\n",
    "    Eq(r, (k*(n+1)/(4*pi*G) * rho_C**(1/n-1))**1/2*xi),\n",
    "]\n",
    "podstawienia"
   ]
  },
  {
   "cell_type": "code",
   "execution_count": null,
   "metadata": {},
   "outputs": [],
   "source": [
    "sympy.solve(podstawienia, )"
   ]
  },
  {
   "cell_type": "code",
   "execution_count": 47,
   "metadata": {},
   "outputs": [
    {
     "data": {
      "image/png": "[encoded data removed]",
      "text/latex": [
       "$$\\left ( \\left(\\frac{\\rho{\\left (r \\right )}}{\\rho_{C}}\\right)^{\\frac{1}{n}}, \\quad \\frac{8 G \\pi r \\rho_{C}^{\\frac{n - 1}{n}}}{k \\left(n + 1\\right)}\\right )$$"
      ],
      "text/plain": [
       "⎛                       n - 1⎞\n",
       "⎜                       ─────⎟\n",
       "⎜    ______               n  ⎟\n",
       "⎜   ╱ ρ(r)   8⋅G⋅π⋅r⋅ρ_C     ⎟\n",
       "⎜n ╱  ──── , ────────────────⎟\n",
       "⎝╲╱   ρ_C       k⋅(n + 1)    ⎠"
      ]
     },
     "execution_count": 47,
     "metadata": {},
     "output_type": "execute_result"
    }
   ],
   "source": [
    "rozwiązania = sympy.solve(podstawienia, (theta, xi))[0]\n",
    "rozwiązania"
   ]
  },
  {
   "cell_type": "code",
   "execution_count": 48,
   "metadata": {},
   "outputs": [
    {
     "ename": "TypeError",
     "evalue": "'Symbol' object is not callable",
     "output_type": "error",
     "traceback": [
      "\u001b[0;31m---------------------------------------------------------------------------\u001b[0m",
      "\u001b[0;31mTypeError\u001b[0m                                 Traceback (most recent call last)",
      "\u001b[0;32m<ipython-input-48-d3f77f5c882a>\u001b[0m in \u001b[0;36m<module>\u001b[0;34m()\u001b[0m\n\u001b[0;32m----> 1\u001b[0;31m \u001b[0mWB1\u001b[0m \u001b[0;34m=\u001b[0m \u001b[0mEq\u001b[0m\u001b[0;34m(\u001b[0m\u001b[0mtheta\u001b[0m\u001b[0;34m(\u001b[0m\u001b[0mxi\u001b[0m\u001b[0;34m=\u001b[0m\u001b[0;36m0\u001b[0m\u001b[0;34m)\u001b[0m\u001b[0;34m,\u001b[0m \u001b[0;36m1\u001b[0m\u001b[0;34m)\u001b[0m\u001b[0;34m\u001b[0m\u001b[0m\n\u001b[0m\u001b[1;32m      2\u001b[0m \u001b[0mWB2\u001b[0m \u001b[0;34m=\u001b[0m \u001b[0mEq\u001b[0m\u001b[0;34m(\u001b[0m\u001b[0mtheta\u001b[0m\u001b[0;34m.\u001b[0m\u001b[0mdiff\u001b[0m\u001b[0;34m(\u001b[0m\u001b[0mxi\u001b[0m\u001b[0;34m=\u001b[0m\u001b[0;36m0\u001b[0m\u001b[0;34m)\u001b[0m\u001b[0;34m,\u001b[0m \u001b[0;36m0\u001b[0m\u001b[0;34m)\u001b[0m\u001b[0;34m\u001b[0m\u001b[0m\n\u001b[1;32m      3\u001b[0m \u001b[0mWB1\u001b[0m\u001b[0;34m,\u001b[0m \u001b[0mWB2\u001b[0m\u001b[0;34m\u001b[0m\u001b[0m\n",
      "\u001b[0;31mTypeError\u001b[0m: 'Symbol' object is not callable"
     ]
    }
   ],
   "source": [
    "WB1 = Eq(theta(xi), 1)\n",
    "WB2 = Eq(theta.diff(xi=0), 0)\n",
    "WB1, WB2"
   ]
  },
  {
   "cell_type": "code",
   "execution_count": null,
   "metadata": {},
   "outputs": [],
   "source": []
  }
 ],
 "metadata": {
  "kernelspec": {
   "display_name": "Python 3",
   "language": "python",
   "name": "python3"
  },
  "language_info": {
   "codemirror_mode": {
    "name": "ipython",
    "version": 3
   },
   "file_extension": ".py",
   "mimetype": "text/x-python",
   "name": "python",
   "nbconvert_exporter": "python",
   "pygments_lexer": "ipython3",
   "version": "3.7.0"
  }
 },
 "nbformat": 4,
 "nbformat_minor": 2
}
