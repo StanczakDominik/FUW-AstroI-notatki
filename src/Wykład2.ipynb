{
 "cells": [
  {
   "cell_type": "code",
   "execution_count": 15,
   "metadata": {},
   "outputs": [],
   "source": [
    "from sympy.abc import *\n",
    "import sympy\n",
    "from sympy import Eq\n",
    "sympy.init_printing()"
   ]
  },
  {
   "cell_type": "code",
   "execution_count": 23,
   "metadata": {},
   "outputs": [],
   "source": [
    "Mr = sympy.Function('M_r', positive=True)(r)\n",
    "P = sympy.Function('P')(r)\n",
    "rho = sympy.Function('rho')(r)\n",
    "phi = sympy.Function('phi')(r)\n",
    "mH = sympy.Symbol('m_H', positive=True)\n",
    "T_avg = sympy.Symbol('T_{avg}')"
   ]
  },
  {
   "cell_type": "code",
   "execution_count": 24,
   "metadata": {},
   "outputs": [
    {
     "data": {
      "image/png": "[encoded data removed]",
      "text/latex": [
       "$$\\frac{\\frac{d}{d r} P{\\left (r \\right )}}{\\rho{\\left (r \\right )}} = - \\frac{d}{d r} \\phi{\\left (r \\right )}$$"
      ],
      "text/plain": [
       "d                   \n",
       "──(P(r))            \n",
       "dr          d       \n",
       "──────── = -──(φ(r))\n",
       "  ρ(r)      dr      "
      ]
     },
     "execution_count": 24,
     "metadata": {},
     "output_type": "execute_result"
    }
   ],
   "source": [
    "warunek_równowagi = sympy.Eq(P.diff(r) / rho, - phi.diff(r))\n",
    "warunek_równowagi"
   ]
  },
  {
   "cell_type": "code",
   "execution_count": 25,
   "metadata": {},
   "outputs": [
    {
     "data": {
      "image/png": "[encoded data removed]",
      "text/latex": [
       "$$P{\\left (r \\right )} = K \\rho^{1 + \\frac{1}{n}}{\\left (r \\right )}$$"
      ],
      "text/plain": [
       "                   1\n",
       "               1 + ─\n",
       "                   n\n",
       "P(r) = K⋅(ρ(r))     "
      ]
     },
     "execution_count": 25,
     "metadata": {},
     "output_type": "execute_result"
    }
   ],
   "source": [
    "politropa = sympy.Eq(P, K*rho**(1+1/n))\n",
    "politropa"
   ]
  },
  {
   "cell_type": "code",
   "execution_count": 26,
   "metadata": {},
   "outputs": [
    {
     "data": {
      "image/png": "[encoded data removed]",
      "text/latex": [
       "$$- \\phi{\\left (r \\right )} = \\frac{G M}{R} + \\frac{\\left(n + 1\\right) P{\\left (r \\right )}}{\\rho{\\left (r \\right )}}$$"
      ],
      "text/plain": [
       "        G⋅M   (n + 1)⋅P(r)\n",
       "-φ(r) = ─── + ────────────\n",
       "         R        ρ(r)    "
      ]
     },
     "execution_count": 26,
     "metadata": {},
     "output_type": "execute_result"
    }
   ],
   "source": [
    "sympy.Eq(-phi, (n+1)*P/rho + G * M / R)"
   ]
  },
  {
   "cell_type": "markdown",
   "metadata": {},
   "source": [
    "..."
   ]
  },
  {
   "cell_type": "code",
   "execution_count": 27,
   "metadata": {},
   "outputs": [
    {
     "data": {
      "image/png": "[encoded data removed]",
      "text/latex": [
       "$$- W = \\frac{3 G M^{2}}{R \\left(- n + 5\\right)}$$"
      ],
      "text/plain": [
       "            2  \n",
       "       3⋅G⋅M   \n",
       "-W = ──────────\n",
       "     R⋅(-n + 5)"
      ]
     },
     "execution_count": 27,
     "metadata": {},
     "output_type": "execute_result"
    }
   ],
   "source": [
    "sympy.Eq(-W, 3/(5-n) * G * M**2 /R)"
   ]
  },
  {
   "cell_type": "code",
   "execution_count": 30,
   "metadata": {},
   "outputs": [
    {
     "data": {
      "image/png": "[encoded data removed]",
      "text/latex": [
       "$$U = \\frac{3 M T_{avg} k}{2 m_{H} \\mu}$$"
      ],
      "text/plain": [
       "    3⋅M⋅T_{avg}⋅k\n",
       "U = ─────────────\n",
       "       2⋅m_H⋅μ   "
      ]
     },
     "execution_count": 30,
     "metadata": {},
     "output_type": "execute_result"
    }
   ],
   "source": [
    "Eq(U, 3*k/2/mu/mH*M*T_avg)"
   ]
  }
 ],
 "metadata": {
  "kernelspec": {
   "display_name": "Python 3",
   "language": "python",
   "name": "python3"
  },
  "language_info": {
   "codemirror_mode": {
    "name": "ipython",
    "version": 3
   },
   "file_extension": ".py",
   "mimetype": "text/x-python",
   "name": "python",
   "nbconvert_exporter": "python",
   "pygments_lexer": "ipython3",
   "version": "3.7.0"
  }
 },
 "nbformat": 4,
 "nbformat_minor": 2
}
