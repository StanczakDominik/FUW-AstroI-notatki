{
 "cells": [
  {
   "cell_type": "markdown",
   "metadata": {},
   "source": [
    "# Praca domowa - Dominik Stańczak"
   ]
  },
  {
   "cell_type": "code",
   "execution_count": 1,
   "metadata": {},
   "outputs": [
    {
     "data": {
      "image/png": "[encoded data removed]",
      "text/latex": [
       "$$\\left [ \\frac{dN_{4}}{dt} = - N_{12} N_{4} \\lambda_{a12} - 3 N_{4}^{3} \\lambda_{3a}, \\quad \\frac{dN_{12}}{dt} = - N_{12} N_{4} \\lambda_{a12} + N_{4}^{3} \\lambda_{3a}, \\quad \\frac{dN_{16}}{dt} = N_{12} N_{4} \\lambda_{a12}\\right ]$$"
      ],
      "text/plain": [
       "⎡dN₄                      3      dN₁₂                    3      dN₁₆          \n",
       "⎢─── = -N₁₂⋅N₄⋅λₐ₁₂ - 3⋅N₄ ⋅λ₃ₐ, ──── = -N₁₂⋅N₄⋅λₐ₁₂ + N₄ ⋅λ₃ₐ, ──── = N₁₂⋅N₄⋅\n",
       "⎣ dt                              dt                             dt           \n",
       "\n",
       "    ⎤\n",
       "λₐ₁₂⎥\n",
       "    ⎦"
      ]
     },
     "execution_count": 1,
     "metadata": {},
     "output_type": "execute_result"
    }
   ],
   "source": [
    "import sympy\n",
    "sympy.init_printing()\n",
    "t, lambda3a, lambdaa12, N4, N12, N16, dN4, dN12, dN16, dt = sympy.symbols('t, lambda_3a, lambda_a12, N4, N12, N16, dN4, dN12, dN16, dt', real=True)\n",
    "\n",
    "eqs = [\n",
    "    sympy.Eq(dN4/dt, -3*lambda3a * N4 **3 - lambdaa12 * N4 * N12),\n",
    "    sympy.Eq(dN12/dt, lambda3a * N4 **3 - lambdaa12 * N4 * N12),\n",
    "    sympy.Eq(dN16/dt, lambdaa12 * N4 * N12)\n",
    "]\n",
    "eqs"
   ]
  },
  {
   "cell_type": "code",
   "execution_count": 2,
   "metadata": {},
   "outputs": [
    {
     "data": {
      "image/png": "[encoded data removed]",
      "text/latex": [
       "$$\\left [ X_{4} = \\frac{4 N_{4} m}{\\rho}, \\quad X_{12} = \\frac{12 N_{12} m}{\\rho}, \\quad X_{16} = \\frac{16 N_{16} m}{\\rho}\\right ]$$"
      ],
      "text/plain": [
       "⎡     4⋅N₄⋅m        12⋅N₁₂⋅m        16⋅N₁₆⋅m⎤\n",
       "⎢X₄ = ──────, X₁₂ = ────────, X₁₆ = ────────⎥\n",
       "⎣       ρ              ρ               ρ    ⎦"
      ]
     },
     "execution_count": 2,
     "metadata": {},
     "output_type": "execute_result"
    }
   ],
   "source": [
    "m, rho = sympy.symbols('m, rho', real=True)\n",
    "X4, X12, X16, dX4, dX12, dX16 = sympy.symbols('X4, X12, X16, dX4, dX12, dX16', real=True)\n",
    "Xeqs = [\n",
    "    sympy.Eq(X4, m/rho*4*N4),\n",
    "    sympy.Eq(X12, m/rho*12*N12),\n",
    "    sympy.Eq(X16, m/rho*16*N16),\n",
    "]\n",
    "Xeqs"
   ]
  },
  {
   "cell_type": "code",
   "execution_count": 3,
   "metadata": {},
   "outputs": [
    {
     "data": {
      "image/png": "[encoded data removed]",
      "text/latex": [
       "$$\\left [ dX_{4} = \\frac{4 dN_{4} m}{\\rho}, \\quad dX_{12} = \\frac{12 dN_{12} m}{\\rho}, \\quad dX_{16} = \\frac{16 dN_{16} m}{\\rho}\\right ]$$"
      ],
      "text/plain": [
       "⎡      4⋅dN₄⋅m         12⋅dN₁₂⋅m         16⋅dN₁₆⋅m⎤\n",
       "⎢dX₄ = ───────, dX₁₂ = ─────────, dX₁₆ = ─────────⎥\n",
       "⎣         ρ                ρ                 ρ    ⎦"
      ]
     },
     "execution_count": 3,
     "metadata": {},
     "output_type": "execute_result"
    }
   ],
   "source": [
    "subs = {X4: dX4, X12: dX12, X16: dX16, N4: dN4, N12: dN12, N16: dN16}\n",
    "dXeqs = [eq.subs(subs) for eq in Xeqs]\n",
    "dXeqs"
   ]
  },
  {
   "cell_type": "code",
   "execution_count": 4,
   "metadata": {},
   "outputs": [
    {
     "data": {
      "image/png": "[encoded data removed]",
      "text/latex": [
       "$$\\left [ X_{12} + X_{16} + X_{4} = 1, \\quad dX_{12} + dX_{16} + dX_{4} = 0\\right ]$$"
      ],
      "text/plain": [
       "[X₁₂ + X₁₆ + X₄ = 1, dX₁₂ + dX₁₆ + dX₄ = 0]"
      ]
     },
     "execution_count": 4,
     "metadata": {},
     "output_type": "execute_result"
    }
   ],
   "source": [
    "full_conservation = [sympy.Eq(X4 + X12 + X16, 1), sympy.Eq(dX4 + dX12 + dX16, 0)]\n",
    "full_conservation"
   ]
  },
  {
   "cell_type": "code",
   "execution_count": 5,
   "metadata": {},
   "outputs": [
    {
     "data": {
      "image/png": "[encoded data removed]",
      "text/latex": [
       "$$\\left [ \\frac{dN_{4}}{dt} = - N_{12} N_{4} \\lambda_{a12} - 3 N_{4}^{3} \\lambda_{3a}, \\quad \\frac{dN_{12}}{dt} = - N_{12} N_{4} \\lambda_{a12} + N_{4}^{3} \\lambda_{3a}, \\quad \\frac{dN_{16}}{dt} = N_{12} N_{4} \\lambda_{a12}, \\quad X_{4} = \\frac{4 N_{4} m}{\\rho}, \\quad X_{12} = \\frac{12 N_{12} m}{\\rho}, \\quad X_{16} = \\frac{16 N_{16} m}{\\rho}, \\quad dX_{4} = \\frac{4 dN_{4} m}{\\rho}, \\quad dX_{12} = \\frac{12 dN_{12} m}{\\rho}, \\quad dX_{16} = \\frac{16 dN_{16} m}{\\rho}, \\quad X_{12} + X_{16} + X_{4} = 1, \\quad dX_{12} + dX_{16} + dX_{4} = 0\\right ]$$"
      ],
      "text/plain": [
       "⎡dN₄                      3      dN₁₂                    3      dN₁₆          \n",
       "⎢─── = -N₁₂⋅N₄⋅λₐ₁₂ - 3⋅N₄ ⋅λ₃ₐ, ──── = -N₁₂⋅N₄⋅λₐ₁₂ + N₄ ⋅λ₃ₐ, ──── = N₁₂⋅N₄⋅\n",
       "⎣ dt                              dt                             dt           \n",
       "\n",
       "           4⋅N₄⋅m        12⋅N₁₂⋅m        16⋅N₁₆⋅m        4⋅dN₄⋅m         12⋅dN\n",
       "λₐ₁₂, X₄ = ──────, X₁₂ = ────────, X₁₆ = ────────, dX₄ = ───────, dX₁₂ = ─────\n",
       "             ρ              ρ               ρ               ρ                ρ\n",
       "\n",
       "₁₂⋅m         16⋅dN₁₆⋅m                                           ⎤\n",
       "────, dX₁₆ = ─────────, X₁₂ + X₁₆ + X₄ = 1, dX₁₂ + dX₁₆ + dX₄ = 0⎥\n",
       "                 ρ                                               ⎦"
      ]
     },
     "execution_count": 5,
     "metadata": {},
     "output_type": "execute_result"
    }
   ],
   "source": [
    "all_eqs = eqs + Xeqs + dXeqs + full_conservation\n",
    "all_eqs"
   ]
  },
  {
   "cell_type": "code",
   "execution_count": 6,
   "metadata": {},
   "outputs": [
    {
     "data": {
      "image/png": "[encoded data removed]",
      "text/latex": [
       "$$\\left [ \\frac{dX_{4} \\rho}{4 dt m} = - \\frac{X_{12} X_{4} \\lambda_{a12} \\rho^{2}}{48 m^{2}} - \\frac{3 X_{4}^{3} \\lambda_{3a} \\rho^{3}}{64 m^{3}}, \\quad \\frac{dX_{12} \\rho}{12 dt m} = - \\frac{X_{12} X_{4} \\lambda_{a12} \\rho^{2}}{48 m^{2}} + \\frac{X_{4}^{3} \\lambda_{3a} \\rho^{3}}{64 m^{3}}, \\quad \\frac{dX_{16} \\rho}{16 dt m} = \\frac{X_{12} X_{4} \\lambda_{a12} \\rho^{2}}{48 m^{2}}, \\quad dX_{12} + dX_{16} + dX_{4} = 0\\right ]$$"
      ],
      "text/plain": [
       "⎡                        2       3      3                           2     3   \n",
       "⎢dX₄⋅ρ      X₁₂⋅X₄⋅λₐ₁₂⋅ρ    3⋅X₄ ⋅λ₃ₐ⋅ρ    dX₁₂⋅ρ     X₁₂⋅X₄⋅λₐ₁₂⋅ρ    X₄ ⋅λ₃\n",
       "⎢────── = - ────────────── - ────────────, ─────── = - ────────────── + ──────\n",
       "⎢4⋅dt⋅m             2               3      12⋅dt⋅m             2              \n",
       "⎣               48⋅m            64⋅m                       48⋅m           64⋅m\n",
       "\n",
       "   3                         2                       ⎤\n",
       "ₐ⋅ρ    dX₁₆⋅ρ   X₁₂⋅X₄⋅λₐ₁₂⋅ρ                        ⎥\n",
       "────, ─────── = ──────────────, dX₁₂ + dX₁₆ + dX₄ = 0⎥\n",
       "3     16⋅dt⋅m           2                            ⎥\n",
       "                    48⋅m                             ⎦"
      ]
     },
     "execution_count": 6,
     "metadata": {},
     "output_type": "execute_result"
    }
   ],
   "source": [
    "X_all_eqs = [eq.subs(sympy.solve(Xeqs, [N4, N12, N16])).subs(sympy.solve(dXeqs, [dN4, dN12, dN16])) for eq in eqs] + [full_conservation[1]]\n",
    "X_all_eqs"
   ]
  },
  {
   "cell_type": "code",
   "execution_count": 7,
   "metadata": {},
   "outputs": [
    {
     "data": {
      "image/png": "[encoded data removed]",
      "text/latex": [
       "$$- \\frac{3 \\left(- 4 X_{12} \\lambda_{a12} m + 3 X_{4}^{2} \\lambda_{3a} \\rho\\right)}{4 X_{12} \\lambda_{a12} m + 9 X_{4}^{2} \\lambda_{3a} \\rho}$$"
      ],
      "text/plain": [
       "   ⎛                    2      ⎞ \n",
       "-3⋅⎝-4⋅X₁₂⋅λₐ₁₂⋅m + 3⋅X₄ ⋅λ₃ₐ⋅ρ⎠ \n",
       "─────────────────────────────────\n",
       "                       2         \n",
       "    4⋅X₁₂⋅λₐ₁₂⋅m + 9⋅X₄ ⋅λ₃ₐ⋅ρ   "
      ]
     },
     "execution_count": 7,
     "metadata": {},
     "output_type": "execute_result"
    }
   ],
   "source": [
    "solutions = sympy.solve(X_all_eqs, [dX4, dX12, dX16])\n",
    "dX12dX4 = solutions[dX12]/solutions[dX4]\n",
    "dX12dX4"
   ]
  },
  {
   "cell_type": "code",
   "execution_count": 8,
   "metadata": {},
   "outputs": [
    {
     "data": {
      "image/png": "[encoded data removed]",
      "text/latex": [
       "$$\\frac{3 \\left(4 X_{12} q - 3 X_{4}^{2}\\right)}{4 X_{12} q + 9 X_{4}^{2}}$$"
      ],
      "text/plain": [
       "  ⎛              2⎞\n",
       "3⋅⎝4⋅X₁₂⋅q - 3⋅X₄ ⎠\n",
       "───────────────────\n",
       "                2  \n",
       "  4⋅X₁₂⋅q + 9⋅X₄   "
      ]
     },
     "execution_count": 8,
     "metadata": {},
     "output_type": "execute_result"
    }
   ],
   "source": [
    "q = sympy.symbols('q', real=True)\n",
    "dX12dX4_final = dX12dX4.subs({lambdaa12*m: q * lambda3a * rho}).simplify()\n",
    "dX12dX4_final"
   ]
  },
  {
   "cell_type": "code",
   "execution_count": 9,
   "metadata": {},
   "outputs": [
    {
     "data": {
      "image/png": "[encoded data removed]",
      "text/latex": [
       "$$\\frac{d}{d X_{4}} \\operatorname{X_{12}}{\\left (X_{4} \\right )} = \\frac{3 \\left(- 3 X_{4}^{2} + 4 q \\operatorname{X_{12}}{\\left (X_{4} \\right )}\\right)}{9 X_{4}^{2} + 4 q \\operatorname{X_{12}}{\\left (X_{4} \\right )}}$$"
      ],
      "text/plain": [
       "                 ⎛      2              ⎞\n",
       " d             3⋅⎝- 3⋅X₄  + 4⋅q⋅X₁₂(X₄)⎠\n",
       "───(X₁₂(X₄)) = ─────────────────────────\n",
       "dX₄                   2                 \n",
       "                  9⋅X₄  + 4⋅q⋅X₁₂(X₄)   "
      ]
     },
     "execution_count": 9,
     "metadata": {},
     "output_type": "execute_result"
    }
   ],
   "source": [
    "fX12 = sympy.Function('X12')(X4)\n",
    "diffeq = sympy.Eq(fX12.diff(X4), dX12dX4_final.subs(X12, fX12))\n",
    "diffeq"
   ]
  },
  {
   "cell_type": "code",
   "execution_count": 10,
   "metadata": {},
   "outputs": [
    {
     "data": {
      "image/png": "[encoded data removed]",
      "text/latex": [
       "$$- \\frac{16 X_{12} \\lambda_{a12} m}{4 X_{12} \\lambda_{a12} m + 9 X_{4}^{2} \\lambda_{3a} \\rho}$$"
      ],
      "text/plain": [
       "     -16⋅X₁₂⋅λₐ₁₂⋅m       \n",
       "──────────────────────────\n",
       "                   2      \n",
       "4⋅X₁₂⋅λₐ₁₂⋅m + 9⋅X₄ ⋅λ₃ₐ⋅ρ"
      ]
     },
     "execution_count": 10,
     "metadata": {},
     "output_type": "execute_result"
    }
   ],
   "source": [
    "dX16dX4 = solutions[dX16]/solutions[dX4]\n",
    "dX16dX4"
   ]
  },
  {
   "cell_type": "code",
   "execution_count": 11,
   "metadata": {},
   "outputs": [
    {
     "data": {
      "image/png": "[encoded data removed]",
      "text/latex": [
       "$$- \\frac{16 X_{12} q}{4 X_{12} q + 9 X_{4}^{2}}$$"
      ],
      "text/plain": [
       "   -16⋅X₁₂⋅q   \n",
       "───────────────\n",
       "              2\n",
       "4⋅X₁₂⋅q + 9⋅X₄ "
      ]
     },
     "execution_count": 11,
     "metadata": {},
     "output_type": "execute_result"
    }
   ],
   "source": [
    "dX16dX4_final = dX16dX4.subs({lambdaa12*m: q * lambda3a * rho}).simplify()\n",
    "dX16dX4_final"
   ]
  },
  {
   "cell_type": "code",
   "execution_count": 12,
   "metadata": {},
   "outputs": [
    {
     "data": {
      "image/png": "[encoded data removed]",
      "text/latex": [
       "$$\\left [ -1.0, \\quad 0.0\\right ]$$"
      ],
      "text/plain": [
       "[-1.0, 0.0]"
      ]
     },
     "execution_count": 12,
     "metadata": {},
     "output_type": "execute_result"
    }
   ],
   "source": [
    "derivatives_func = sympy.lambdify((X4, X12, X16, q), [dX12dX4_final, dX16dX4_final])\n",
    "derivatives_func(1, 0, 0, 1)"
   ]
  },
  {
   "cell_type": "code",
   "execution_count": 13,
   "metadata": {},
   "outputs": [
    {
     "data": {
      "image/png": "[encoded data removed]",
      "text/latex": [
       "$$\\left [ -1.0, \\quad 0.0\\right ]$$"
      ],
      "text/plain": [
       "[-1.0, 0.0]"
      ]
     },
     "execution_count": 13,
     "metadata": {},
     "output_type": "execute_result"
    }
   ],
   "source": [
    "def f(X, X4, q):\n",
    "    return derivatives_func(X4, *X, q)\n",
    "f([0, 0], 1, 1)"
   ]
  },
  {
   "cell_type": "code",
   "execution_count": 32,
   "metadata": {},
   "outputs": [],
   "source": [
    "import numpy as np\n",
    "from scipy.integrate import odeint\n",
    "import matplotlib.pyplot as plt\n",
    "X4 = np.linspace(1, 0, 1000)\n",
    "q_list = np.logspace(-3, np.log10(2), 500)\n",
    "results = []\n",
    "# fig, (ax1, ax2) = plt.subplots(2, sharex=True, figsize=(10, 8))\n",
    "# ax1.set_xlim(0, 1)\n",
    "# ax2.set_xlim(0, 1)\n",
    "# ax1.set_ylim(0, 1)\n",
    "# ax2.set_ylim(0, 1)\n",
    "for q in q_list:\n",
    "    X = odeint(f, [0, 0], X4, args=(q,))\n",
    "    X12, X16 = X.T\n",
    "#     ax1.plot(X4, X12, label=f\"q: {q:.1f}\")\n",
    "#     ax2.plot(X4, X16, label=f\"q: {q:.1f}\")\n",
    "#     ax2.set_xlabel(\"X4\")\n",
    "#     ax1.set_ylabel(\"X12\")\n",
    "#     ax2.set_ylabel(\"X16\")\n",
    "#     plt.plot(X4, X16)\n",
    "#     plt.legend()\n",
    "    results.append(X[-1])\n",
    "results = np.array(results)"
   ]
  },
  {
   "cell_type": "code",
   "execution_count": 36,
   "metadata": {},
   "outputs": [
    {
     "data": {
      "image/png": "[encoded data removed]",
      "text/plain": [
       "<Figure size 720x720 with 1 Axes>"
      ]
     },
     "metadata": {
      "needs_background": "light"
     },
     "output_type": "display_data"
    }
   ],
   "source": [
    "X12, X16 = results.T\n",
    "plt.figure(figsize=(10, 10))\n",
    "plt.plot(q_list, X12, label=\"X12\")\n",
    "plt.plot(q_list, X16, label=\"X16\")\n",
    "plt.xlabel(\"q\")\n",
    "plt.xscale(\"log\")\n",
    "plt.ylabel(\"X\")\n",
    "plt.legend(loc='best')\n",
    "plt.xlim(q_list.min(), q_list.max());\n",
    "plt.grid()\n",
    "plt.savefig(\"Reacts.png\")"
   ]
  }
 ],
 "metadata": {
  "kernelspec": {
   "display_name": "Python 3",
   "language": "python",
   "name": "python3"
  },
  "language_info": {
   "codemirror_mode": {
    "name": "ipython",
    "version": 3
   },
   "file_extension": ".py",
   "mimetype": "text/x-python",
   "name": "python",
   "nbconvert_exporter": "python",
   "pygments_lexer": "ipython3",
   "version": "3.7.1"
  }
 },
 "nbformat": 4,
 "nbformat_minor": 2
}
